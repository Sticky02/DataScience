{
 "cells": [
  {
   "cell_type": "markdown",
   "id": "db25c9a0",
   "metadata": {},
   "source": [
    "# Condtitional Statements\n",
    "Conditional statements allow for the execution of specific code blocks based on whether a given condition evaluates to True or False. They are essential for controlling the flow of a program and enabling decision-making."
   ]
  },
  {
   "cell_type": "markdown",
   "id": "0614904c",
   "metadata": {},
   "source": [
    "## If-Elif-else statements"
   ]
  },
  {
   "cell_type": "code",
   "execution_count": 1,
   "id": "57985cb0",
   "metadata": {},
   "outputs": [
    {
     "name": "stdout",
     "output_type": "stream",
     "text": [
      "This block runs\n"
     ]
    }
   ],
   "source": [
    "# if statement\n",
    "\n",
    "a = 10\n",
    "\n",
    "if(a>5):                   \n",
    "    print(\"This block runs\") # this code block runs only when the previous statement returns true"
   ]
  },
  {
   "cell_type": "code",
   "execution_count": 4,
   "id": "c96bdb67",
   "metadata": {},
   "outputs": [
    {
     "name": "stdout",
     "output_type": "stream",
     "text": [
      "False\n"
     ]
    }
   ],
   "source": [
    "# if-else statement\n",
    "\n",
    "a = 1\n",
    "\n",
    "if (a==10):\n",
    "    print(\"true\")\n",
    "else:\n",
    "    print(\"False\") # this code block runs when the if condition is false"
   ]
  },
  {
   "cell_type": "code",
   "execution_count": 5,
   "id": "d085f64f",
   "metadata": {},
   "outputs": [
    {
     "name": "stdout",
     "output_type": "stream",
     "text": [
      "Middle one is printing\n"
     ]
    }
   ],
   "source": [
    "# elif\n",
    "\n",
    "a = 10\n",
    "\n",
    "if (a==1):\n",
    "    print(\"true\")\n",
    "elif(a==10):\n",
    "    print(\"Middle one is printing\") # this block runs when the if statement is false and elif statement is true\n",
    "else:\n",
    "    print(\"False\") "
   ]
  },
  {
   "cell_type": "code",
   "execution_count": 7,
   "id": "eed92f76",
   "metadata": {},
   "outputs": [
    {
     "name": "stdout",
     "output_type": "stream",
     "text": [
      "This block ran\n"
     ]
    }
   ],
   "source": [
    "# Nested if: if statement within an if statement\n",
    "a = 10\n",
    "if(a>5):\n",
    "    if(a==10):\n",
    "        print(\"This block ran\")"
   ]
  },
  {
   "cell_type": "markdown",
   "id": "f44baeff",
   "metadata": {},
   "source": [
    "## Switch case\n",
    "match and case in python"
   ]
  },
  {
   "cell_type": "code",
   "execution_count": 8,
   "id": "57b302d4",
   "metadata": {},
   "outputs": [
    {
     "name": "stdout",
     "output_type": "stream",
     "text": [
      "jack\n"
     ]
    }
   ],
   "source": [
    "a = 3\n",
    "\n",
    "match a:\n",
    "    case 1: print(\"Hello\")\n",
    "    case 2: print(\"World\")\n",
    "    case 3: print(\"jack\")\n",
    "    case _: #default case\n",
    "        print(\"something\")"
   ]
  }
 ],
 "metadata": {
  "kernelspec": {
   "display_name": "lpy",
   "language": "python",
   "name": "python3"
  },
  "language_info": {
   "codemirror_mode": {
    "name": "ipython",
    "version": 3
   },
   "file_extension": ".py",
   "mimetype": "text/x-python",
   "name": "python",
   "nbconvert_exporter": "python",
   "pygments_lexer": "ipython3",
   "version": "3.13.5"
  }
 },
 "nbformat": 4,
 "nbformat_minor": 5
}
