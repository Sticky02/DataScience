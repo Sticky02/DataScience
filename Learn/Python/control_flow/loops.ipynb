{
 "cells": [
  {
   "cell_type": "markdown",
   "id": "5a409a89",
   "metadata": {},
   "source": [
    "## Loops"
   ]
  },
  {
   "cell_type": "markdown",
   "id": "8a4dd96a",
   "metadata": {},
   "source": [
    "## for loop\n",
    "A for loop is used to iterate over a sequence of items, such as a list, tuple, string, or range. It is the best choice when you know the exact number of iterations needed."
   ]
  },
  {
   "cell_type": "code",
   "execution_count": null,
   "id": "096490d3",
   "metadata": {},
   "outputs": [
    {
     "name": "stdout",
     "output_type": "stream",
     "text": [
      "2\n",
      "3\n",
      "5\n",
      "7\n"
     ]
    }
   ],
   "source": [
    "# looping through a list\n",
    "primes = [2,3,5,7]\n",
    "\n",
    "for prime in primes:\n",
    "    print(prime)"
   ]
  },
  {
   "cell_type": "code",
   "execution_count": 4,
   "id": "e6e40391",
   "metadata": {},
   "outputs": [
    {
     "name": "stdout",
     "output_type": "stream",
     "text": [
      "0\n",
      "1\n",
      "2\n",
      "3\n",
      "4\n",
      "5\n",
      "6\n",
      "7\n",
      "8\n",
      "9\n"
     ]
    }
   ],
   "source": [
    "# looping a specific number of times with range():\n",
    "for i in range(0,10): #includes 0 but excludes 10\n",
    "    print(i)"
   ]
  },
  {
   "cell_type": "markdown",
   "id": "e23db65f",
   "metadata": {},
   "source": [
    "## while loop\n",
    "A while loop repeatedly executes a block of code as long as a specified condition is True. It is ideal when the number of iterations is unknown and depends on a condition being met. "
   ]
  },
  {
   "cell_type": "code",
   "execution_count": 5,
   "id": "2b118e92",
   "metadata": {},
   "outputs": [
    {
     "name": "stdout",
     "output_type": "stream",
     "text": [
      "Count is 0\n",
      "Count is 1\n",
      "Count is 2\n"
     ]
    }
   ],
   "source": [
    "count = 0\n",
    "while count < 3:\n",
    "    print(f\"Count is {count}\")\n",
    "    count += 1  # This is crucial to avoid an infinite loop\n"
   ]
  },
  {
   "cell_type": "markdown",
   "id": "cdb04ebc",
   "metadata": {},
   "source": [
    "## Loop control statements\n"
   ]
  },
  {
   "cell_type": "code",
   "execution_count": 6,
   "id": "f6bc07e9",
   "metadata": {},
   "outputs": [
    {
     "name": "stdout",
     "output_type": "stream",
     "text": [
      "0\n",
      "1\n",
      "2\n",
      "3\n",
      "4\n"
     ]
    }
   ],
   "source": [
    "# break: Exits the loop completely. The program proceeds to the statement immediately after the loop\n",
    "for i in range(10):\n",
    "    if i == 5:\n",
    "        break  # Exits the loop when i is 5\n",
    "    print(i)\n"
   ]
  },
  {
   "cell_type": "code",
   "execution_count": 7,
   "id": "a32ca99f",
   "metadata": {},
   "outputs": [
    {
     "name": "stdout",
     "output_type": "stream",
     "text": [
      "0\n",
      "1\n",
      "3\n",
      "4\n"
     ]
    }
   ],
   "source": [
    "# continue: Skips the rest of the code in the current iteration and jumps to the next iteration of the loop.\n",
    "for i in range(5):\n",
    "    if i == 2:\n",
    "        continue  # Skips printing when i is 2\n",
    "    print(i)\n"
   ]
  },
  {
   "cell_type": "code",
   "execution_count": 8,
   "id": "38e094c2",
   "metadata": {},
   "outputs": [
    {
     "name": "stdout",
     "output_type": "stream",
     "text": [
      "0\n",
      "1\n",
      "2\n",
      "3\n",
      "4\n"
     ]
    }
   ],
   "source": [
    "# pass: Does nothing. It is used as a placeholder when a statement is syntactically required but you don't need to execute any code.\n",
    "for i in range(5):\n",
    "    if i == 2:\n",
    "        pass  # Do nothing and continue the loop\n",
    "    print(i)\n"
   ]
  },
  {
   "cell_type": "markdown",
   "id": "4c1e0ce6",
   "metadata": {},
   "source": [
    "## Nested Loops\n",
    "A nested loop is a loop placed inside another loop. The inner loop will execute completely for each single iteration of the outer loop. "
   ]
  },
  {
   "cell_type": "code",
   "execution_count": 9,
   "id": "c0a74359",
   "metadata": {},
   "outputs": [
    {
     "name": "stdout",
     "output_type": "stream",
     "text": [
      "i = 0, j = 0\n",
      "i = 0, j = 1\n",
      "i = 0, j = 2\n",
      "i = 1, j = 0\n",
      "i = 1, j = 1\n",
      "i = 1, j = 2\n"
     ]
    }
   ],
   "source": [
    "for i in range(2):      # Outer loop\n",
    "    for j in range(3):  # Inner loop\n",
    "        print(f\"i = {i}, j = {j}\")\n"
   ]
  },
  {
   "cell_type": "markdown",
   "id": "a5852eb1",
   "metadata": {},
   "source": [
    "## else block with loops\n",
    "Python loops can have an optional else block, which is executed after the loop finishes normally. It is not executed if the loop is terminated early by a break statement"
   ]
  },
  {
   "cell_type": "code",
   "execution_count": 10,
   "id": "817bad91",
   "metadata": {},
   "outputs": [
    {
     "name": "stdout",
     "output_type": "stream",
     "text": [
      "0\n",
      "1\n",
      "2\n",
      "The loop is finished.\n"
     ]
    }
   ],
   "source": [
    "for i in range(3):\n",
    "    print(i)\n",
    "else:\n",
    "    print(\"The loop is finished.\")\n",
    "\n",
    "# Output:\n",
    "# 0\n",
    "# 1\n",
    "# 2\n",
    "# The loop is finished.\n"
   ]
  }
 ],
 "metadata": {
  "kernelspec": {
   "display_name": "lpy",
   "language": "python",
   "name": "python3"
  },
  "language_info": {
   "codemirror_mode": {
    "name": "ipython",
    "version": 3
   },
   "file_extension": ".py",
   "mimetype": "text/x-python",
   "name": "python",
   "nbconvert_exporter": "python",
   "pygments_lexer": "ipython3",
   "version": "3.13.5"
  }
 },
 "nbformat": 4,
 "nbformat_minor": 5
}
