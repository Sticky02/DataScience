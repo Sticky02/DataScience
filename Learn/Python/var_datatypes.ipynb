{
 "cells": [
  {
   "cell_type": "markdown",
   "id": "e57fe945",
   "metadata": {},
   "source": [
    "# Variables"
   ]
  },
  {
   "cell_type": "markdown",
   "id": "de8a7600",
   "metadata": {},
   "source": [
    "Variables are symbolic names that act as containers for storing data values.\n",
    "\n",
    "Variables are assigned using '='.\n",
    "\n",
    "By storing data in variables we can do more complex stuffs, such as arithmetic operation, etc.\n",
    "\n",
    "There are some rules to follow while declaring a variable:\n",
    "\n",
    "    - mustnot start with a number or special character (except underscore)\n",
    "    - there must not be space between name(can use underscore to show space)\n",
    "    - can contain only alphanumeric characters or underscore\n",
    "    - they cannot be python reserved keywords"
   ]
  },
  {
   "cell_type": "code",
   "execution_count": null,
   "id": "c8bc49d5",
   "metadata": {},
   "outputs": [
    {
     "name": "stdout",
     "output_type": "stream",
     "text": [
      "23 + 32 = 55\n",
      "23 - 32 = -9\n",
      "23 * 32 = 736\n",
      "23 / 32 = 0.71875\n"
     ]
    }
   ],
   "source": [
    "a = 23\n",
    "b = 32\n",
    "# Some arithmetic operations\n",
    "print(f\"{a} + {b} = {a+b}\")\n",
    "print(f\"{a} - {b} = {a-b}\")\n",
    "print(f\"{a} * {b} = {a*b}\")\n",
    "print(f\"{a} / {b} = {a/b}\")"
   ]
  },
  {
   "cell_type": "markdown",
   "id": "e063d07f",
   "metadata": {},
   "source": [
    "Lets see some errors"
   ]
  },
  {
   "cell_type": "code",
   "execution_count": 5,
   "id": "c1fcc1ec",
   "metadata": {},
   "outputs": [
    {
     "ename": "SyntaxError",
     "evalue": "starred assignment target must be in a list or tuple (2176316132.py, line 1)",
     "output_type": "error",
     "traceback": [
      "  \u001b[36mCell\u001b[39m\u001b[36m \u001b[39m\u001b[32mIn[5]\u001b[39m\u001b[32m, line 1\u001b[39m\n\u001b[31m    \u001b[39m\u001b[31m*sas = 232\u001b[39m\n    ^\n\u001b[31mSyntaxError\u001b[39m\u001b[31m:\u001b[39m starred assignment target must be in a list or tuple\n"
     ]
    }
   ],
   "source": [
    "*sas = 232"
   ]
  },
  {
   "cell_type": "code",
   "execution_count": 6,
   "id": "a1fc187e",
   "metadata": {},
   "outputs": [
    {
     "ename": "SyntaxError",
     "evalue": "invalid decimal literal (1743717407.py, line 1)",
     "output_type": "error",
     "traceback": [
      "  \u001b[36mCell\u001b[39m\u001b[36m \u001b[39m\u001b[32mIn[6]\u001b[39m\u001b[32m, line 1\u001b[39m\n\u001b[31m    \u001b[39m\u001b[31m23xs = 321\u001b[39m\n     ^\n\u001b[31mSyntaxError\u001b[39m\u001b[31m:\u001b[39m invalid decimal literal\n"
     ]
    }
   ],
   "source": [
    "23xs = 321"
   ]
  },
  {
   "cell_type": "code",
   "execution_count": 8,
   "id": "603552a3",
   "metadata": {},
   "outputs": [
    {
     "ename": "SyntaxError",
     "evalue": "invalid syntax (520999966.py, line 1)",
     "output_type": "error",
     "traceback": [
      "  \u001b[36mCell\u001b[39m\u001b[36m \u001b[39m\u001b[32mIn[8]\u001b[39m\u001b[32m, line 1\u001b[39m\n\u001b[31m    \u001b[39m\u001b[31marith sum = 32\u001b[39m\n          ^\n\u001b[31mSyntaxError\u001b[39m\u001b[31m:\u001b[39m invalid syntax\n"
     ]
    }
   ],
   "source": [
    "arith sum = 32"
   ]
  },
  {
   "cell_type": "markdown",
   "id": "822fde16",
   "metadata": {},
   "source": [
    "# Datatypes"
   ]
  },
  {
   "cell_type": "markdown",
   "id": "046085f0",
   "metadata": {},
   "source": [
    "Python  categorizes data into various built-in types, which determine the kind of values a variable can hold and the operations that can be performed on them.\n",
    "\n",
    "The built-in datatypes include:\n",
    "\n",
    "## 1. Numeric Types"
   ]
  },
  {
   "cell_type": "code",
   "execution_count": 10,
   "id": "adeadbd5",
   "metadata": {},
   "outputs": [
    {
     "name": "stdout",
     "output_type": "stream",
     "text": [
      "10 3.14 (2+5j)\n"
     ]
    }
   ],
   "source": [
    "# int (Integers): Whole numbers, positive or negative, without decimal points.\n",
    "x = 10\n",
    "# float (Floating-point numbers): Numbers with a decimal point.\n",
    "y = 3.14\n",
    "# complex (Complex numbers): Numbers with a real and imaginary part (e.g., a + bj).\n",
    "z = 2 + 5j\n",
    "print(x,y,z)"
   ]
  },
  {
   "cell_type": "markdown",
   "id": "90ba17fe",
   "metadata": {},
   "source": [
    "## 2. Sequence Types"
   ]
  },
  {
   "cell_type": "code",
   "execution_count": 11,
   "id": "924b9b20",
   "metadata": {},
   "outputs": [
    {
     "name": "stdout",
     "output_type": "stream",
     "text": [
      "Jane\n",
      "[1, 'jack', 2.3]\n",
      "(1, 'world', 4.0)\n",
      "range(0, 5)\n"
     ]
    }
   ],
   "source": [
    "# str (Strings): Sequences of characters, enclosed in single or double quotes.\n",
    "name = \"Jane\"\n",
    "# list (Lists): Ordered, mutable (changeable) sequences of items, enclosed in square brackets.\n",
    "my_list = [1,\"jack\",2.3]\n",
    "# tuple (Tuples): Ordered, immutable (unchangeable) sequences of items, enclosed in parentheses.\n",
    "my_tuple = (1, \"world\", 4.0)\n",
    "# range: Represents an immutable sequence of numbers, often used in loops.\n",
    "numbers = range(5) # 0, 1, 2, 3, 4\n",
    "print(f\"{name}\\n{my_list}\\n{my_tuple}\\n{numbers}\")"
   ]
  },
  {
   "cell_type": "markdown",
   "id": "843fc0d2",
   "metadata": {},
   "source": [
    "## 3. Mapping Types"
   ]
  },
  {
   "cell_type": "code",
   "execution_count": 12,
   "id": "3616a3f1",
   "metadata": {},
   "outputs": [
    {
     "name": "stdout",
     "output_type": "stream",
     "text": [
      "{'name': 'Bob', 'age': 30}\n"
     ]
    }
   ],
   "source": [
    "# dict (Dictionaries): Unordered collections of key-value pairs, enclosed in curly braces. Keys must be unique and immutable.\n",
    "my_dict = {\"name\": \"Bob\", \"age\": 30}\n",
    "print(my_dict)"
   ]
  },
  {
   "cell_type": "markdown",
   "id": "6876b3b5",
   "metadata": {},
   "source": [
    "## 4. Set Types"
   ]
  },
  {
   "cell_type": "code",
   "execution_count": 13,
   "id": "c710a0b7",
   "metadata": {},
   "outputs": [
    {
     "name": "stdout",
     "output_type": "stream",
     "text": [
      "{1, 2, 3}\n"
     ]
    }
   ],
   "source": [
    "# set (Sets): Unordered collections of unique, mutable items, enclosed in curly braces.\n",
    "my_set = {1, 2, 3, 2} # Result will be {1, 2, 3}\n",
    "print(my_set)"
   ]
  },
  {
   "cell_type": "markdown",
   "id": "79cd5155",
   "metadata": {},
   "source": [
    "## 5. Boolean Types"
   ]
  },
  {
   "cell_type": "code",
   "execution_count": 14,
   "id": "7b1b8d57",
   "metadata": {},
   "outputs": [
    {
     "name": "stdout",
     "output_type": "stream",
     "text": [
      "True\n"
     ]
    }
   ],
   "source": [
    "# bool (Booleans): Represents truth values, either True or False.\n",
    "is_active = True\n",
    "print(is_active)"
   ]
  }
 ],
 "metadata": {
  "kernelspec": {
   "display_name": "lpy",
   "language": "python",
   "name": "python3"
  },
  "language_info": {
   "codemirror_mode": {
    "name": "ipython",
    "version": 3
   },
   "file_extension": ".py",
   "mimetype": "text/x-python",
   "name": "python",
   "nbconvert_exporter": "python",
   "pygments_lexer": "ipython3",
   "version": "3.13.5"
  }
 },
 "nbformat": 4,
 "nbformat_minor": 5
}
