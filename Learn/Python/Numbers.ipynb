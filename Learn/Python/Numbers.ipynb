{
 "cells": [
  {
   "cell_type": "markdown",
   "id": "1c0f95f9",
   "metadata": {},
   "source": [
    "# Working with Numbers"
   ]
  },
  {
   "cell_type": "markdown",
   "id": "f01c0339",
   "metadata": {},
   "source": [
    "Python supports 3 types of numbers which includes integer, floating point numbers and complex numbers."
   ]
  },
  {
   "cell_type": "code",
   "execution_count": 2,
   "id": "7c75a83e",
   "metadata": {},
   "outputs": [
    {
     "name": "stdout",
     "output_type": "stream",
     "text": [
      "<class 'int'>\n",
      "<class 'float'>\n",
      "<class 'complex'>\n"
     ]
    }
   ],
   "source": [
    "a = 23 # integer\n",
    "b = 2.3 # float\n",
    "c = 4j #complex\n",
    "\n",
    "# type() is used to show the datatype of the values stored within the variables\n",
    "print(type(a))\n",
    "print(type(b))\n",
    "print(type(c))"
   ]
  },
  {
   "cell_type": "markdown",
   "id": "9105aa8b",
   "metadata": {},
   "source": [
    "## Arithmetic Operations "
   ]
  },
  {
   "cell_type": "code",
   "execution_count": 3,
   "id": "27983e88",
   "metadata": {},
   "outputs": [
    {
     "name": "stdout",
     "output_type": "stream",
     "text": [
      "Addition: 13\n",
      "Subtraction: 7\n",
      "Multiplicaton: 30\n",
      "Division: 3.3333333333333335\n",
      "Floor Division: 3\n",
      "Modulo: 1\n",
      "Eponentiation: 1000\n"
     ]
    }
   ],
   "source": [
    "a = 10\n",
    "b = 3\n",
    "print(f\"Addition: {a+b}\")\n",
    "print(f\"Subtraction: {a-b}\")\n",
    "print(f\"Multiplicaton: {a*b}\")\n",
    "print(f\"Division: {a/b}\")\n",
    "print(f\"Floor Division: {a//b}\")\n",
    "print(f\"Modulo: {a%b}\")\n",
    "print(f\"Eponentiation: {a ** 3}\")"
   ]
  },
  {
   "cell_type": "markdown",
   "id": "ea96d7a6",
   "metadata": {},
   "source": [
    "## Type Conversion"
   ]
  },
  {
   "cell_type": "code",
   "execution_count": 4,
   "id": "8bc3a162",
   "metadata": {},
   "outputs": [
    {
     "name": "stdout",
     "output_type": "stream",
     "text": [
      "<class 'int'>\n"
     ]
    }
   ],
   "source": [
    "f_n = 5.7\n",
    "print(type(int(f_n)))"
   ]
  },
  {
   "cell_type": "markdown",
   "id": "81ab41fe",
   "metadata": {},
   "source": [
    "## Common Functions"
   ]
  },
  {
   "cell_type": "code",
   "execution_count": 6,
   "id": "88218b57",
   "metadata": {},
   "outputs": [
    {
     "name": "stdout",
     "output_type": "stream",
     "text": [
      "5\n"
     ]
    }
   ],
   "source": [
    "# abs(): gives the absolute value of the number\n",
    "n = -5\n",
    "print(abs(n))"
   ]
  },
  {
   "cell_type": "code",
   "execution_count": 7,
   "id": "91ee350c",
   "metadata": {},
   "outputs": [
    {
     "name": "stdout",
     "output_type": "stream",
     "text": [
      "9\n"
     ]
    }
   ],
   "source": [
    "# pow(): gives the power of a number \n",
    "print(pow(3,2))  # basically it is 3^2"
   ]
  },
  {
   "cell_type": "code",
   "execution_count": 9,
   "id": "82ff1135",
   "metadata": {},
   "outputs": [
    {
     "name": "stdout",
     "output_type": "stream",
     "text": [
      "534\n",
      "3\n"
     ]
    }
   ],
   "source": [
    "# max(): Returns largest number between set of numbers\n",
    "print(max(23,534,223,3,43))\n",
    "\n",
    "# min(): Returns smallest number between set of numbers\n",
    "print(min(23,534,223,3,43))"
   ]
  },
  {
   "cell_type": "code",
   "execution_count": 10,
   "id": "8d634dfe",
   "metadata": {},
   "outputs": [
    {
     "name": "stdout",
     "output_type": "stream",
     "text": [
      "2\n"
     ]
    }
   ],
   "source": [
    "# round()\n",
    "print(round(2.343))"
   ]
  }
 ],
 "metadata": {
  "kernelspec": {
   "display_name": "lpy",
   "language": "python",
   "name": "python3"
  },
  "language_info": {
   "codemirror_mode": {
    "name": "ipython",
    "version": 3
   },
   "file_extension": ".py",
   "mimetype": "text/x-python",
   "name": "python",
   "nbconvert_exporter": "python",
   "pygments_lexer": "ipython3",
   "version": "3.13.5"
  }
 },
 "nbformat": 4,
 "nbformat_minor": 5
}
