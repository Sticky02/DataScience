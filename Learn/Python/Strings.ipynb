{
 "cells": [
  {
   "cell_type": "markdown",
   "id": "33e9c1b5",
   "metadata": {},
   "source": [
    "# Working with Strings\n",
    "In Python, a string is a sequence of characters enclosed in quotes. It can include letters, numbers, symbols or spaces. Since Python has no separate character type, even a single character is treated as a string with length one. Strings are widely used for text handling and manipulation."
   ]
  },
  {
   "cell_type": "markdown",
   "id": "feb2d889",
   "metadata": {},
   "source": [
    "## Creating a String\n",
    "Strings can be created using either single ('...') or double (\"...\") quotes. Both behave the same.\n"
   ]
  },
  {
   "cell_type": "code",
   "execution_count": 1,
   "id": "af9db66f",
   "metadata": {},
   "outputs": [
    {
     "name": "stdout",
     "output_type": "stream",
     "text": [
      "John Jack\n"
     ]
    }
   ],
   "source": [
    "s1 = 'John'\n",
    "s2 = \"Jack\"\n",
    "print(s1,s2)"
   ]
  },
  {
   "cell_type": "markdown",
   "id": "45f3871c",
   "metadata": {},
   "source": [
    "### Multi-line Strings\n",
    "\n",
    "Use triple quotes ('''...''' ) or ( \"\"\"...\"\"\") for strings that span multiple lines. Newlines are preserved.\n"
   ]
  },
  {
   "cell_type": "code",
   "execution_count": 2,
   "id": "2877f7c6",
   "metadata": {},
   "outputs": [
    {
     "name": "stdout",
     "output_type": "stream",
     "text": [
      "The quick brown fox jumps over the lazy dog \n",
      "with surprising agility\n"
     ]
    }
   ],
   "source": [
    "s1 = \"\"\"The quick brown fox jumps over the lazy dog \n",
    "with surprising agility\"\"\"\n",
    "print(s1)"
   ]
  },
  {
   "cell_type": "markdown",
   "id": "60be9c52",
   "metadata": {},
   "source": [
    "## Accessing Characters\n",
    "Strings are indexed sequences. Positive indices start at 0 from the left; negative indices start at -1 from the right.\n",
    "<table>\n",
    "  <tr>\n",
    "    <td>0</td>\n",
    "    <td>1</td>\n",
    "    <td>2</td>\n",
    "    <td>3</td>\n",
    "    <td>4</td>\n",
    "    <td>5</td>\n",
    "    <td>6</td>\n",
    "    <td>7</td>\n",
    "    <td>8</td>\n",
    "  </tr>\n",
    "  <tr>\n",
    "    <td>p</td>\n",
    "    <td>a</td>\n",
    "    <td>r</td>\n",
    "    <td>a</td>\n",
    "    <td>g</td>\n",
    "    <td>r</td>\n",
    "    <td>a</td>\n",
    "    <td>p</td>\n",
    "    <td>h</td>\n",
    "  </tr>\n",
    "  <tr>\n",
    "    <td>-9</td>\n",
    "    <td>-8</td>\n",
    "    <td>-7</td>\n",
    "    <td>-6</td>\n",
    "    <td>-5</td>\n",
    "    <td>-4</td>\n",
    "    <td>-3</td>\n",
    "    <td>-2</td>\n",
    "    <td>-1</td>\n",
    "  </tr>\n",
    "</table>"
   ]
  },
  {
   "cell_type": "code",
   "execution_count": null,
   "id": "e5d6537b",
   "metadata": {},
   "outputs": [
    {
     "name": "stdout",
     "output_type": "stream",
     "text": [
      "a\n",
      "p\n"
     ]
    }
   ],
   "source": [
    "# Accessing characters through positive indexing\n",
    "s = \"paragraph\"\n",
    "print(s[1])     #2nd character\n",
    "print(s[7])     #8th character"
   ]
  },
  {
   "cell_type": "code",
   "execution_count": null,
   "id": "611359db",
   "metadata": {},
   "outputs": [
    {
     "name": "stdout",
     "output_type": "stream",
     "text": [
      "h\n",
      "r\n"
     ]
    }
   ],
   "source": [
    "# Accessing characters through negative indexing\n",
    "s = \"paragraph\"\n",
    "print(s[-1])     #last character\n",
    "print(s[-7])     #3rd character"
   ]
  },
  {
   "cell_type": "markdown",
   "id": "ca7333d8",
   "metadata": {},
   "source": [
    "## String Slicing\n",
    "Slicing is a way to extract a portion of a string by specifying the start and end indexes. \n",
    "\n",
    "The syntax for slicing is string[start:end], where start starting index and end is stopping index (excluded)."
   ]
  },
  {
   "cell_type": "code",
   "execution_count": 6,
   "id": "a363536a",
   "metadata": {},
   "outputs": [
    {
     "name": "stdout",
     "output_type": "stream",
     "text": [
      "ara\n",
      "Par\n",
      "agraph\n",
      "hpargaraP\n"
     ]
    }
   ],
   "source": [
    "s = \"Paragraph\"\n",
    "print(s[1:4])   # characters from index 1 to 3\n",
    "print(s[:3])    # characters from start to index 2\n",
    "print(s[3:])    # characters from index 3 till end\n",
    "print(s[::-1])     # reverse string"
   ]
  },
  {
   "cell_type": "markdown",
   "id": "d730ec67",
   "metadata": {},
   "source": [
    "## String Iteration\n",
    "Strings are iterable; you can loop through characters one by one."
   ]
  },
  {
   "cell_type": "code",
   "execution_count": null,
   "id": "b941bbb5",
   "metadata": {},
   "outputs": [
    {
     "name": "stdout",
     "output_type": "stream",
     "text": [
      "P\n",
      "a\n",
      "r\n",
      "a\n",
      "g\n",
      "r\n",
      "a\n",
      "p\n",
      "h\n"
     ]
    }
   ],
   "source": [
    "s = \"Paragraph\"\n",
    "for c in s:     # for loop pulls characters in order and each iteration prints the next character\n",
    "    print (c)"
   ]
  },
  {
   "cell_type": "markdown",
   "id": "27885c51",
   "metadata": {},
   "source": [
    "## String immutability\n",
    "Strings are immutable, which means that they cannot be changed after they are created. If we need to manipulate strings then we can use methods like concatenation, slicing or formatting to create new strings based on original."
   ]
  },
  {
   "cell_type": "code",
   "execution_count": null,
   "id": "ce2f1de4",
   "metadata": {},
   "outputs": [
    {
     "name": "stdout",
     "output_type": "stream",
     "text": [
      "Paragraph\n"
     ]
    }
   ],
   "source": [
    "s = \"paragraph\"\n",
    "s = \"P\" + s[1:]     # changing first character by building a new string\n",
    "print(s)"
   ]
  },
  {
   "cell_type": "markdown",
   "id": "2d78ddeb",
   "metadata": {},
   "source": [
    "## Updating a String\n",
    "As strings are immutable, “updates” create new strings using slicing or methods such as replace()."
   ]
  },
  {
   "cell_type": "code",
   "execution_count": 10,
   "id": "f87b0e56",
   "metadata": {},
   "outputs": [
    {
     "name": "stdout",
     "output_type": "stream",
     "text": [
      "Hello peeps\n",
      "hello geeks\n"
     ]
    }
   ],
   "source": [
    "s = \"hello peeps\"\n",
    "s1 = \"H\" + s[1:]  # Update first character\n",
    "s2 = s.replace(\"peeps\", \"geeks\") # replace word\n",
    "print(s1)\n",
    "print(s2)"
   ]
  },
  {
   "cell_type": "markdown",
   "id": "e3460147",
   "metadata": {},
   "source": [
    "## Common String Methods"
   ]
  },
  {
   "cell_type": "code",
   "execution_count": 1,
   "id": "0d4d8a40",
   "metadata": {},
   "outputs": [
    {
     "name": "stdout",
     "output_type": "stream",
     "text": [
      "9\n"
     ]
    }
   ],
   "source": [
    "# len(): The len() function returns the total number of characters in a string (including spaces and punctuation)\n",
    "\n",
    "s = \"paragraph\"\n",
    "print(len(s))"
   ]
  },
  {
   "cell_type": "code",
   "execution_count": 2,
   "id": "885fb78e",
   "metadata": {},
   "outputs": [
    {
     "name": "stdout",
     "output_type": "stream",
     "text": [
      "HELLO WORLD\n",
      "hello world\n"
     ]
    }
   ],
   "source": [
    "# upper() and lower(): upper() method converts all characters to uppercase whereas, lower() method converts all characters to lowercase\n",
    "\n",
    "s = \"Hello World\"\n",
    "\n",
    "print(s.upper())\n",
    "print(s.lower())"
   ]
  },
  {
   "cell_type": "code",
   "execution_count": 3,
   "id": "00852717",
   "metadata": {},
   "outputs": [
    {
     "name": "stdout",
     "output_type": "stream",
     "text": [
      "hello\n",
      "Hello Galaxy\n"
     ]
    }
   ],
   "source": [
    "# strip() and replace(): strip() removes leading and trailing whitespace from the string and replace() replaces all occurrences of a specified substring with another\n",
    "\n",
    "s = \"   hello   \"\n",
    "print(s.strip())\n",
    "\n",
    "s = \"Hello World\"\n",
    "print(s.replace(\"World\", \"Galaxy\"))"
   ]
  },
  {
   "cell_type": "markdown",
   "id": "5302d716",
   "metadata": {},
   "source": [
    "## Concatenating and Repeating Strings"
   ]
  },
  {
   "cell_type": "code",
   "execution_count": 4,
   "id": "16a9c946",
   "metadata": {},
   "outputs": [
    {
     "name": "stdout",
     "output_type": "stream",
     "text": [
      "Hello World\n"
     ]
    }
   ],
   "source": [
    "# Strings can be combined by using + operator\n",
    "\n",
    "s1 = \"Hello\"\n",
    "s2 = \"World\"\n",
    "\n",
    "print(s1+ \" \" + s2)"
   ]
  },
  {
   "cell_type": "code",
   "execution_count": 6,
   "id": "b750e38b",
   "metadata": {},
   "outputs": [
    {
     "name": "stdout",
     "output_type": "stream",
     "text": [
      "Hello Hello Hello \n"
     ]
    }
   ],
   "source": [
    "# We can repeat a string multiple times using * operator\n",
    "\n",
    "s = \"Hello \"\n",
    "\n",
    "print(s * 3)"
   ]
  },
  {
   "cell_type": "markdown",
   "id": "77f4dffe",
   "metadata": {},
   "source": [
    "## Formating Strings\n"
   ]
  },
  {
   "cell_type": "code",
   "execution_count": 7,
   "id": "c89647bc",
   "metadata": {},
   "outputs": [
    {
     "name": "stdout",
     "output_type": "stream",
     "text": [
      "Name: Jack, Age: 22\n"
     ]
    }
   ],
   "source": [
    "# Using f-strings\n",
    "\n",
    "name = \"Jack\"\n",
    "age = 22\n",
    "print(f\"Name: {name}, Age: {age}\")"
   ]
  },
  {
   "cell_type": "code",
   "execution_count": 8,
   "id": "5c5e00f2",
   "metadata": {},
   "outputs": [
    {
     "name": "stdout",
     "output_type": "stream",
     "text": [
      "My name is Alice and I am 22 years old.\n"
     ]
    }
   ],
   "source": [
    "# Using format()\n",
    "s = \"My name is {} and I am {} years old.\".format(\"Alice\", 22)\n",
    "print(s)"
   ]
  },
  {
   "cell_type": "markdown",
   "id": "3a073485",
   "metadata": {},
   "source": [
    "## Escape Characters in Strings\n",
    "The backslash (`\\`) acts as the escape character. It is used to introduce \"escape sequences,\" which represent special characters or actions within strings.\n",
    "\n",
    "Normally we cant show some characters in the string e.g: ' or \"."
   ]
  },
  {
   "cell_type": "code",
   "execution_count": 9,
   "id": "7425ad8b",
   "metadata": {},
   "outputs": [
    {
     "name": "stdout",
     "output_type": "stream",
     "text": [
      "This is a backslash: \\\n"
     ]
    }
   ],
   "source": [
    "# \\\\: represents a literal backslash character\n",
    "print(\"This is a backslash: \\\\\")"
   ]
  },
  {
   "cell_type": "code",
   "execution_count": 10,
   "id": "297988de",
   "metadata": {},
   "outputs": [
    {
     "name": "stdout",
     "output_type": "stream",
     "text": [
      "Hello\n",
      "World\n"
     ]
    }
   ],
   "source": [
    "# \\n Represents a newline character\n",
    "print(\"Hello\\nWorld\")"
   ]
  },
  {
   "cell_type": "code",
   "execution_count": 11,
   "id": "fffe1eee",
   "metadata": {},
   "outputs": [
    {
     "name": "stdout",
     "output_type": "stream",
     "text": [
      "hello\tworld\n"
     ]
    }
   ],
   "source": [
    "# \\t: represents a horizontal tab\n",
    "print(\"hello\\tworld\")"
   ]
  },
  {
   "cell_type": "code",
   "execution_count": 12,
   "id": "639acfe4",
   "metadata": {},
   "outputs": [
    {
     "name": "stdout",
     "output_type": "stream",
     "text": [
      "world\n"
     ]
    }
   ],
   "source": [
    "# \\r: represents a carraige return. This moves the cursor to the beginning of the current line, pottentially overwriting existing test.\n",
    "print(\"hello\\rworld\")"
   ]
  },
  {
   "cell_type": "code",
   "execution_count": 13,
   "id": "e2fef87e",
   "metadata": {},
   "outputs": [
    {
     "name": "stdout",
     "output_type": "stream",
     "text": [
      "it's a nice day\n"
     ]
    }
   ],
   "source": [
    "# \\': represents a single quote\n",
    "print(\"it\\'s a nice day\")"
   ]
  },
  {
   "cell_type": "code",
   "execution_count": 14,
   "id": "e7754ecf",
   "metadata": {},
   "outputs": [
    {
     "name": "stdout",
     "output_type": "stream",
     "text": [
      "He said \"Hello\"\n"
     ]
    }
   ],
   "source": [
    "# \\\": Represents a double quote\n",
    "print(\"He said \\\"Hello\\\"\")"
   ]
  },
  {
   "cell_type": "markdown",
   "id": "adfccdbd",
   "metadata": {},
   "source": [
    "## Raw Strings\n",
    "To prevent Python from interpreting escape sequences, you can use raw strings by prefixing the string literal with an r or R. This is particularly useful when dealing with file paths or regular expressions where backslashes are common and should be treated literally."
   ]
  },
  {
   "cell_type": "code",
   "execution_count": null,
   "id": "ab6199e9",
   "metadata": {},
   "outputs": [],
   "source": [
    "\n",
    "# Without a raw string, \\n would be interpreted as a newline\n",
    "path_normal = \"C:\\Users\\NewFolder\\file.txt\"\n",
    "print(path_normal)\n",
    "\n",
    "# With a raw string, \\n is treated as literal characters\n",
    "path_raw = r\"C:\\Users\\NewFolder\\file.txt\"\n",
    "print(path_raw)"
   ]
  }
 ],
 "metadata": {
  "kernelspec": {
   "display_name": "lpy",
   "language": "python",
   "name": "python3"
  },
  "language_info": {
   "codemirror_mode": {
    "name": "ipython",
    "version": 3
   },
   "file_extension": ".py",
   "mimetype": "text/x-python",
   "name": "python",
   "nbconvert_exporter": "python",
   "pygments_lexer": "ipython3",
   "version": "3.13.5"
  }
 },
 "nbformat": 4,
 "nbformat_minor": 5
}
