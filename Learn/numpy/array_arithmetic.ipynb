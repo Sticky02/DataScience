{
 "cells": [
  {
   "cell_type": "code",
   "execution_count": 1,
   "id": "7f89b071",
   "metadata": {},
   "outputs": [],
   "source": [
    "import numpy as np"
   ]
  },
  {
   "cell_type": "markdown",
   "id": "d3a97565",
   "metadata": {},
   "source": [
    "# Array Arithmetic"
   ]
  },
  {
   "cell_type": "markdown",
   "id": "7dd089d8",
   "metadata": {},
   "source": [
    "## Scalar Arithmetic"
   ]
  },
  {
   "cell_type": "markdown",
   "id": "cd9b3584",
   "metadata": {},
   "source": [
    "In scalar arithmetic if any arithmetic operation is done on the array with a scalar value, the arithmetic operation will be done on each of the element of the array"
   ]
  },
  {
   "cell_type": "code",
   "execution_count": 4,
   "id": "48127e94",
   "metadata": {},
   "outputs": [
    {
     "name": "stdout",
     "output_type": "stream",
     "text": [
      "[2 3 4]\n",
      "[-1  0  1]\n",
      "[3 6 9]\n",
      "[0.25 0.5  0.75]\n",
      "[  1  32 243]\n"
     ]
    }
   ],
   "source": [
    "arr = np.array([1,2,3])\n",
    "\n",
    "print(arr + 1)\n",
    "print(arr - 2)\n",
    "print(arr * 3)\n",
    "print(arr / 4)\n",
    "print(arr ** 5)\n"
   ]
  },
  {
   "cell_type": "markdown",
   "id": "df429cc0",
   "metadata": {},
   "source": [
    "## Vector math function"
   ]
  },
  {
   "cell_type": "code",
   "execution_count": 6,
   "id": "be6847c1",
   "metadata": {},
   "outputs": [
    {
     "name": "stdout",
     "output_type": "stream",
     "text": [
      "[1.00498756 1.58113883 1.99749844]\n",
      "[2. 3. 4.]\n",
      "3.141592653589793\n"
     ]
    }
   ],
   "source": [
    "arr = np.array([1.01, 2.5, 3.99])\n",
    "\n",
    "print(np.sqrt(arr))\n",
    "print(np.ceil(arr))\n",
    "print(np.pi)"
   ]
  },
  {
   "cell_type": "markdown",
   "id": "b71e9d4c",
   "metadata": {},
   "source": [
    "## Element wise arithmetic"
   ]
  },
  {
   "cell_type": "markdown",
   "id": "317a2eb7",
   "metadata": {},
   "source": [
    "The operation will take place between elements at same position"
   ]
  },
  {
   "cell_type": "code",
   "execution_count": null,
   "id": "16309ef3",
   "metadata": {},
   "outputs": [
    {
     "name": "stdout",
     "output_type": "stream",
     "text": [
      "[5 7 9]\n",
      "[-3 -3 -3]\n",
      "[ 4 10 18]\n",
      "[0.25 0.4  0.5 ]\n",
      "[  1  32 729]\n"
     ]
    }
   ],
   "source": [
    "a1 = np.array([1,2,3])\n",
    "a2 = np.array([4,5,6])\n",
    "\n",
    "print(a1 + a2)\n",
    "print(a1 - a2)\n",
    "print(a1 * a2)\n",
    "print(a1 / a2)\n",
    "print(a1 ** a2)"
   ]
  },
  {
   "cell_type": "markdown",
   "id": "45d77511",
   "metadata": {},
   "source": [
    "## Comparision Operator"
   ]
  },
  {
   "cell_type": "markdown",
   "id": "0e7f9382",
   "metadata": {},
   "source": [
    "Using comparsion operators we can create boolean arrays, filter data and use element wise comparsions"
   ]
  },
  {
   "cell_type": "code",
   "execution_count": 11,
   "id": "7dd4b6cb",
   "metadata": {},
   "outputs": [
    {
     "name": "stdout",
     "output_type": "stream",
     "text": [
      "[False False  True False False False]\n",
      "[ True False  True  True  True  True]\n"
     ]
    }
   ],
   "source": [
    "scores = np.array([91,55,100,73,82,64])\n",
    "\n",
    "print(scores == 100)\n",
    "print(scores >= 60)"
   ]
  },
  {
   "cell_type": "code",
   "execution_count": null,
   "id": "31c60ab1",
   "metadata": {},
   "outputs": [],
   "source": []
  }
 ],
 "metadata": {
  "kernelspec": {
   "display_name": "lpy",
   "language": "python",
   "name": "python3"
  },
  "language_info": {
   "codemirror_mode": {
    "name": "ipython",
    "version": 3
   },
   "file_extension": ".py",
   "mimetype": "text/x-python",
   "name": "python",
   "nbconvert_exporter": "python",
   "pygments_lexer": "ipython3",
   "version": "3.13.5"
  }
 },
 "nbformat": 4,
 "nbformat_minor": 5
}
