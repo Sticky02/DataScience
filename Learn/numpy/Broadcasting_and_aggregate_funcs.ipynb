{
 "cells": [
  {
   "cell_type": "code",
   "execution_count": 2,
   "id": "90d448f6",
   "metadata": {},
   "outputs": [],
   "source": [
    "import numpy as np"
   ]
  },
  {
   "cell_type": "markdown",
   "id": "c4bbb767",
   "metadata": {},
   "source": [
    "# Broadcasting\n"
   ]
  },
  {
   "cell_type": "markdown",
   "id": "a104aee1",
   "metadata": {},
   "source": [
    "Broadcasting allows Numpy to preform operations on arrays with different shapes by virtually expanding dimensions so they match the larger arrays shape"
   ]
  },
  {
   "cell_type": "markdown",
   "id": "e8de6920",
   "metadata": {},
   "source": [
    "Rules to follow:\n",
    "- the dimensions have the same size\n",
    "- or\n",
    "- One of the dimensions has a size of 1"
   ]
  },
  {
   "cell_type": "code",
   "execution_count": 2,
   "id": "759f1c77",
   "metadata": {},
   "outputs": [
    {
     "name": "stdout",
     "output_type": "stream",
     "text": [
      "[[ 1  2  3  4]\n",
      " [ 2  4  6  8]\n",
      " [ 3  6  9 12]\n",
      " [ 4  8 12 16]]\n"
     ]
    }
   ],
   "source": [
    "a1 = np.array([[1,2,3,4]])\n",
    "a2 = np.array([[1],[2],[3],[4]])\n",
    "\n",
    "print(a1 * a2)"
   ]
  },
  {
   "cell_type": "code",
   "execution_count": 3,
   "id": "7126042d",
   "metadata": {},
   "outputs": [
    {
     "ename": "ValueError",
     "evalue": "operands could not be broadcast together with shapes (2,4) (4,1) ",
     "output_type": "error",
     "traceback": [
      "\u001b[31m---------------------------------------------------------------------------\u001b[39m",
      "\u001b[31mValueError\u001b[39m                                Traceback (most recent call last)",
      "\u001b[36mCell\u001b[39m\u001b[36m \u001b[39m\u001b[32mIn[3]\u001b[39m\u001b[32m, line 4\u001b[39m\n\u001b[32m      1\u001b[39m a1 = np.array([[\u001b[32m1\u001b[39m,\u001b[32m2\u001b[39m,\u001b[32m3\u001b[39m,\u001b[32m4\u001b[39m],[\u001b[32m5\u001b[39m,\u001b[32m6\u001b[39m,\u001b[32m7\u001b[39m,\u001b[32m8\u001b[39m]])\n\u001b[32m      2\u001b[39m a2 = np.array([[\u001b[32m1\u001b[39m],[\u001b[32m2\u001b[39m],[\u001b[32m3\u001b[39m],[\u001b[32m4\u001b[39m]])\n\u001b[32m----> \u001b[39m\u001b[32m4\u001b[39m \u001b[38;5;28mprint\u001b[39m(\u001b[43ma1\u001b[49m\u001b[43m \u001b[49m\u001b[43m*\u001b[49m\u001b[43m \u001b[49m\u001b[43ma2\u001b[49m)\n",
      "\u001b[31mValueError\u001b[39m: operands could not be broadcast together with shapes (2,4) (4,1) "
     ]
    }
   ],
   "source": [
    "a1 = np.array([[1,2,3,4],[5,6,7,8]])\n",
    "a2 = np.array([[1],[2],[3],[4]])\n",
    "\n",
    "print(a1 * a2)"
   ]
  },
  {
   "cell_type": "markdown",
   "id": "8dc6a60c",
   "metadata": {},
   "source": [
    "# Aggregate Functions"
   ]
  },
  {
   "cell_type": "markdown",
   "id": "62e193b3",
   "metadata": {},
   "source": [
    "They summarize data and typically return a single value"
   ]
  },
  {
   "cell_type": "code",
   "execution_count": 3,
   "id": "7cc22ff7",
   "metadata": {},
   "outputs": [
    {
     "name": "stdout",
     "output_type": "stream",
     "text": [
      "Sum = 55\n",
      "Mean = 5.5\n",
      "Standard Deviation = 2.8722813232690143\n",
      "variance = 8.25\n",
      "Min = 1\n",
      "Max = 10\n",
      "Position of min value = 0\n",
      "Position of max value = 9\n",
      "Sum of all columns = [ 7  9 11 13 15]\n",
      "Sum of all rows = [15 40]\n"
     ]
    }
   ],
   "source": [
    "a = np.array([[1,2,3,4,5],\n",
    "              [6,7,8,9,10]])\n",
    "\n",
    "print(f\"Sum = {np.sum(a)}\")\n",
    "print(f\"Mean = {np.mean(a)}\")\n",
    "print(f\"Standard Deviation = {np.std(a)}\")\n",
    "print(f\"variance = {np.var(a)}\")\n",
    "print(f\"Min = {np.min(a)}\")\n",
    "print(f\"Max = {np.max(a)}\")\n",
    "print(f\"Position of min value = {np.argmin(a)}\")\n",
    "print(f\"Position of max value = {np.argmax(a)}\")\n",
    "\n",
    "print(f\"Sum of all columns = {np.sum(a, axis=0)}\")\n",
    "print(f\"Sum of all rows = {np.sum(a, axis=1)}\")\n",
    "\n"
   ]
  }
 ],
 "metadata": {
  "kernelspec": {
   "display_name": "lpy",
   "language": "python",
   "name": "python3"
  },
  "language_info": {
   "codemirror_mode": {
    "name": "ipython",
    "version": 3
   },
   "file_extension": ".py",
   "mimetype": "text/x-python",
   "name": "python",
   "nbconvert_exporter": "python",
   "pygments_lexer": "ipython3",
   "version": "3.13.5"
  }
 },
 "nbformat": 4,
 "nbformat_minor": 5
}
